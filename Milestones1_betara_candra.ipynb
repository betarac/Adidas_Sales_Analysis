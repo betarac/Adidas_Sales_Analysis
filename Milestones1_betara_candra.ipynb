{
  "cells": [
    {
      "cell_type": "markdown",
      "metadata": {
        "id": "wlBw9y5dfyu6"
      },
      "source": [
        "# 1-Introduction"
      ]
    },
    {
      "cell_type": "markdown",
      "metadata": {
        "id": "8knaqfFkf2n3"
      },
      "source": [
        "==================================================\n",
        "\n",
        "Nama: Betara Candra Ariviyanto\n",
        "\n",
        "batch : SBY - 002\n",
        " \n",
        "objective : Analaysis data pada dataset penjualan Brand Adidas dan memberikan kesimpulan untuk meningkatkan profit penjualan pada bulan Januari tahun 2022\n",
        "\n",
        "link Tableau : [Link Tableu](https://public.tableau.com/app/profile/betara.candra.ariviyanto/viz/Adidas_Sales_17058384569270/Dashboard1?publish=yes)\n",
        "====================================================\n"
      ]
    },
    {
      "cell_type": "markdown",
      "metadata": {},
      "source": [
        "- Import Library"
      ]
    },
    {
      "cell_type": "code",
      "execution_count": 4,
      "metadata": {},
      "outputs": [],
      "source": [
        "import pandas as pd\n",
        "import numpy as np\n",
        "import seaborn as sns\n",
        "import matplotlib.pyplot  as plt\n",
        "from scipy import stats"
      ]
    },
    {
      "cell_type": "markdown",
      "metadata": {
        "id": "f7mg-EgegFjj"
      },
      "source": [
        "# 2-Identifikasi Masalah"
      ]
    },
    {
      "cell_type": "markdown",
      "metadata": {
        "id": "uCbzwiFlg23N"
      },
      "source": [
        "Penjabaran Problem Statement\n",
        "\n",
        "Specific : Meningkatkan profit penjualan\n",
        "\n",
        "Measurable :Meningkatkan profit sebanyak 10%\n",
        "\n",
        "Achievable : Memilih produk yang memiliki operating margin yang tinggi dapat meningkatkan profit \n",
        "\n",
        "Relevant :  Tingkat Operating margin yang tinggi juga mendapatkan profit yang tinggi\n",
        "\n",
        "Time - bound : Hasil dapat dilihat pada bulan Januari tahun 2022\n",
        "\n"
      ]
    },
    {
      "cell_type": "markdown",
      "metadata": {
        "id": "DSIyqftig9Mj"
      },
      "source": [
        "Problem Statement\n",
        "Tujuannya yaitu meningkatkan profit penjualan sebanyak 10% dengan memilih produk yang memiliki operating margin yang tinggi agar nilai profit juga tinggi. Hasil dapat dilihat pada bulan Januari tahun 2022 (Dengan target pada bulan januari 2022 profil penjualan meningkat )"
      ]
    },
    {
      "cell_type": "markdown",
      "metadata": {
        "id": "BvSBAnTkg93c"
      },
      "source": [
        "Defining the problem:\n",
        "\n",
        "1. Retailer apa yang  memiliki rata - rata  profit tinggi dan kecil? \n",
        "\n",
        "2. Bagaiamana rata - rata  profit dari tiap kota yang ada ?\n",
        "\n",
        "3. Bagaiamana rata - rata Profit tiap Bulannya ?\n",
        "\n",
        "4. Produk apa yang paling profit ? \n",
        "\n",
        "5. Confidence Interval dari profit bulan selanjutnya ? (Inferal)\n",
        "\n",
        "6. Central Tendency produk yang paling profit ? (Descriptive)"
      ]
    },
    {
      "cell_type": "markdown",
      "metadata": {
        "id": "Loi3_QZwhA4f"
      },
      "source": [
        "# 3-Data Loading"
      ]
    },
    {
      "cell_type": "markdown",
      "metadata": {
        "id": "VAFIw9qjhF7f"
      },
      "source": [
        "[Link dataset penjualan Adidas](https://www.kaggle.com/datasets/heemalichaudhari/adidas-sales-dataset)"
      ]
    },
    {
      "cell_type": "code",
      "execution_count": 5,
      "metadata": {},
      "outputs": [
        {
          "data": {
            "text/html": [
              "<div>\n",
              "<style scoped>\n",
              "    .dataframe tbody tr th:only-of-type {\n",
              "        vertical-align: middle;\n",
              "    }\n",
              "\n",
              "    .dataframe tbody tr th {\n",
              "        vertical-align: top;\n",
              "    }\n",
              "\n",
              "    .dataframe thead th {\n",
              "        text-align: right;\n",
              "    }\n",
              "</style>\n",
              "<table border=\"1\" class=\"dataframe\">\n",
              "  <thead>\n",
              "    <tr style=\"text-align: right;\">\n",
              "      <th></th>\n",
              "      <th>Retailer</th>\n",
              "      <th>Retailer ID</th>\n",
              "      <th>Invoice Date</th>\n",
              "      <th>Region</th>\n",
              "      <th>State</th>\n",
              "      <th>City</th>\n",
              "      <th>Product</th>\n",
              "      <th>Price per Unit</th>\n",
              "      <th>Units Sold</th>\n",
              "      <th>Total Sales</th>\n",
              "      <th>Operating Profit</th>\n",
              "      <th>Operating Margin</th>\n",
              "      <th>Sales Method</th>\n",
              "    </tr>\n",
              "  </thead>\n",
              "  <tbody>\n",
              "    <tr>\n",
              "      <th>0</th>\n",
              "      <td>Foot Locker</td>\n",
              "      <td>1185732</td>\n",
              "      <td>2020-01-01</td>\n",
              "      <td>Northeast</td>\n",
              "      <td>New York</td>\n",
              "      <td>New York</td>\n",
              "      <td>Men's Street Footwear</td>\n",
              "      <td>50.0</td>\n",
              "      <td>1200</td>\n",
              "      <td>600000.0</td>\n",
              "      <td>300000.00</td>\n",
              "      <td>0.50</td>\n",
              "      <td>In-store</td>\n",
              "    </tr>\n",
              "    <tr>\n",
              "      <th>1</th>\n",
              "      <td>Foot Locker</td>\n",
              "      <td>1185732</td>\n",
              "      <td>2020-01-02</td>\n",
              "      <td>Northeast</td>\n",
              "      <td>New York</td>\n",
              "      <td>New York</td>\n",
              "      <td>Men's Athletic Footwear</td>\n",
              "      <td>50.0</td>\n",
              "      <td>1000</td>\n",
              "      <td>500000.0</td>\n",
              "      <td>150000.00</td>\n",
              "      <td>0.30</td>\n",
              "      <td>In-store</td>\n",
              "    </tr>\n",
              "    <tr>\n",
              "      <th>2</th>\n",
              "      <td>Foot Locker</td>\n",
              "      <td>1185732</td>\n",
              "      <td>2020-01-03</td>\n",
              "      <td>Northeast</td>\n",
              "      <td>New York</td>\n",
              "      <td>New York</td>\n",
              "      <td>Women's Street Footwear</td>\n",
              "      <td>40.0</td>\n",
              "      <td>1000</td>\n",
              "      <td>400000.0</td>\n",
              "      <td>140000.00</td>\n",
              "      <td>0.35</td>\n",
              "      <td>In-store</td>\n",
              "    </tr>\n",
              "    <tr>\n",
              "      <th>3</th>\n",
              "      <td>Foot Locker</td>\n",
              "      <td>1185732</td>\n",
              "      <td>2020-01-04</td>\n",
              "      <td>Northeast</td>\n",
              "      <td>New York</td>\n",
              "      <td>New York</td>\n",
              "      <td>Women's Athletic Footwear</td>\n",
              "      <td>45.0</td>\n",
              "      <td>850</td>\n",
              "      <td>382500.0</td>\n",
              "      <td>133875.00</td>\n",
              "      <td>0.35</td>\n",
              "      <td>In-store</td>\n",
              "    </tr>\n",
              "    <tr>\n",
              "      <th>4</th>\n",
              "      <td>Foot Locker</td>\n",
              "      <td>1185732</td>\n",
              "      <td>2020-01-05</td>\n",
              "      <td>Northeast</td>\n",
              "      <td>New York</td>\n",
              "      <td>New York</td>\n",
              "      <td>Men's Apparel</td>\n",
              "      <td>60.0</td>\n",
              "      <td>900</td>\n",
              "      <td>540000.0</td>\n",
              "      <td>162000.00</td>\n",
              "      <td>0.30</td>\n",
              "      <td>In-store</td>\n",
              "    </tr>\n",
              "    <tr>\n",
              "      <th>...</th>\n",
              "      <td>...</td>\n",
              "      <td>...</td>\n",
              "      <td>...</td>\n",
              "      <td>...</td>\n",
              "      <td>...</td>\n",
              "      <td>...</td>\n",
              "      <td>...</td>\n",
              "      <td>...</td>\n",
              "      <td>...</td>\n",
              "      <td>...</td>\n",
              "      <td>...</td>\n",
              "      <td>...</td>\n",
              "      <td>...</td>\n",
              "    </tr>\n",
              "    <tr>\n",
              "      <th>9643</th>\n",
              "      <td>Foot Locker</td>\n",
              "      <td>1185732</td>\n",
              "      <td>2021-01-24</td>\n",
              "      <td>Northeast</td>\n",
              "      <td>New Hampshire</td>\n",
              "      <td>Manchester</td>\n",
              "      <td>Men's Apparel</td>\n",
              "      <td>50.0</td>\n",
              "      <td>64</td>\n",
              "      <td>3200.0</td>\n",
              "      <td>896.00</td>\n",
              "      <td>0.28</td>\n",
              "      <td>Outlet</td>\n",
              "    </tr>\n",
              "    <tr>\n",
              "      <th>9644</th>\n",
              "      <td>Foot Locker</td>\n",
              "      <td>1185732</td>\n",
              "      <td>2021-01-24</td>\n",
              "      <td>Northeast</td>\n",
              "      <td>New Hampshire</td>\n",
              "      <td>Manchester</td>\n",
              "      <td>Women's Apparel</td>\n",
              "      <td>41.0</td>\n",
              "      <td>105</td>\n",
              "      <td>4305.0</td>\n",
              "      <td>1377.60</td>\n",
              "      <td>0.32</td>\n",
              "      <td>Outlet</td>\n",
              "    </tr>\n",
              "    <tr>\n",
              "      <th>9645</th>\n",
              "      <td>Foot Locker</td>\n",
              "      <td>1185732</td>\n",
              "      <td>2021-02-22</td>\n",
              "      <td>Northeast</td>\n",
              "      <td>New Hampshire</td>\n",
              "      <td>Manchester</td>\n",
              "      <td>Men's Street Footwear</td>\n",
              "      <td>41.0</td>\n",
              "      <td>184</td>\n",
              "      <td>7544.0</td>\n",
              "      <td>2791.28</td>\n",
              "      <td>0.37</td>\n",
              "      <td>Outlet</td>\n",
              "    </tr>\n",
              "    <tr>\n",
              "      <th>9646</th>\n",
              "      <td>Foot Locker</td>\n",
              "      <td>1185732</td>\n",
              "      <td>2021-02-22</td>\n",
              "      <td>Northeast</td>\n",
              "      <td>New Hampshire</td>\n",
              "      <td>Manchester</td>\n",
              "      <td>Men's Athletic Footwear</td>\n",
              "      <td>42.0</td>\n",
              "      <td>70</td>\n",
              "      <td>2940.0</td>\n",
              "      <td>1234.80</td>\n",
              "      <td>0.42</td>\n",
              "      <td>Outlet</td>\n",
              "    </tr>\n",
              "    <tr>\n",
              "      <th>9647</th>\n",
              "      <td>Foot Locker</td>\n",
              "      <td>1185732</td>\n",
              "      <td>2021-02-22</td>\n",
              "      <td>Northeast</td>\n",
              "      <td>New Hampshire</td>\n",
              "      <td>Manchester</td>\n",
              "      <td>Women's Street Footwear</td>\n",
              "      <td>29.0</td>\n",
              "      <td>83</td>\n",
              "      <td>2407.0</td>\n",
              "      <td>649.89</td>\n",
              "      <td>0.27</td>\n",
              "      <td>Outlet</td>\n",
              "    </tr>\n",
              "  </tbody>\n",
              "</table>\n",
              "<p>9648 rows × 13 columns</p>\n",
              "</div>"
            ],
            "text/plain": [
              "         Retailer  Retailer ID Invoice Date     Region          State  \\\n",
              "0     Foot Locker      1185732   2020-01-01  Northeast       New York   \n",
              "1     Foot Locker      1185732   2020-01-02  Northeast       New York   \n",
              "2     Foot Locker      1185732   2020-01-03  Northeast       New York   \n",
              "3     Foot Locker      1185732   2020-01-04  Northeast       New York   \n",
              "4     Foot Locker      1185732   2020-01-05  Northeast       New York   \n",
              "...           ...          ...          ...        ...            ...   \n",
              "9643  Foot Locker      1185732   2021-01-24  Northeast  New Hampshire   \n",
              "9644  Foot Locker      1185732   2021-01-24  Northeast  New Hampshire   \n",
              "9645  Foot Locker      1185732   2021-02-22  Northeast  New Hampshire   \n",
              "9646  Foot Locker      1185732   2021-02-22  Northeast  New Hampshire   \n",
              "9647  Foot Locker      1185732   2021-02-22  Northeast  New Hampshire   \n",
              "\n",
              "            City                    Product  Price per Unit  Units Sold  \\\n",
              "0       New York      Men's Street Footwear            50.0        1200   \n",
              "1       New York    Men's Athletic Footwear            50.0        1000   \n",
              "2       New York    Women's Street Footwear            40.0        1000   \n",
              "3       New York  Women's Athletic Footwear            45.0         850   \n",
              "4       New York              Men's Apparel            60.0         900   \n",
              "...          ...                        ...             ...         ...   \n",
              "9643  Manchester              Men's Apparel            50.0          64   \n",
              "9644  Manchester            Women's Apparel            41.0         105   \n",
              "9645  Manchester      Men's Street Footwear            41.0         184   \n",
              "9646  Manchester    Men's Athletic Footwear            42.0          70   \n",
              "9647  Manchester    Women's Street Footwear            29.0          83   \n",
              "\n",
              "      Total Sales  Operating Profit  Operating Margin Sales Method  \n",
              "0        600000.0         300000.00              0.50     In-store  \n",
              "1        500000.0         150000.00              0.30     In-store  \n",
              "2        400000.0         140000.00              0.35     In-store  \n",
              "3        382500.0         133875.00              0.35     In-store  \n",
              "4        540000.0         162000.00              0.30     In-store  \n",
              "...           ...               ...               ...          ...  \n",
              "9643       3200.0            896.00              0.28       Outlet  \n",
              "9644       4305.0           1377.60              0.32       Outlet  \n",
              "9645       7544.0           2791.28              0.37       Outlet  \n",
              "9646       2940.0           1234.80              0.42       Outlet  \n",
              "9647       2407.0            649.89              0.27       Outlet  \n",
              "\n",
              "[9648 rows x 13 columns]"
            ]
          },
          "execution_count": 5,
          "metadata": {},
          "output_type": "execute_result"
        }
      ],
      "source": [
        "df = pd.read_excel('adidas.xlsx')\n",
        "df"
      ]
    },
    {
      "cell_type": "markdown",
      "metadata": {
        "id": "YIKFYJHAhLkk"
      },
      "source": [
        "Dataset penjual Adidas yang dapat di Explore untuk menganalisa dengan tujuan meningkatkan profit pada bulan Januari 2022"
      ]
    },
    {
      "cell_type": "code",
      "execution_count": 6,
      "metadata": {
        "id": "HXbTMAEh7YCu"
      },
      "outputs": [
        {
          "name": "stdout",
          "output_type": "stream",
          "text": [
            "<class 'pandas.core.frame.DataFrame'>\n",
            "RangeIndex: 9648 entries, 0 to 9647\n",
            "Data columns (total 13 columns):\n",
            " #   Column            Non-Null Count  Dtype         \n",
            "---  ------            --------------  -----         \n",
            " 0   Retailer          9648 non-null   object        \n",
            " 1   Retailer ID       9648 non-null   int64         \n",
            " 2   Invoice Date      9648 non-null   datetime64[ns]\n",
            " 3   Region            9648 non-null   object        \n",
            " 4   State             9648 non-null   object        \n",
            " 5   City              9648 non-null   object        \n",
            " 6   Product           9648 non-null   object        \n",
            " 7   Price per Unit    9648 non-null   float64       \n",
            " 8   Units Sold        9648 non-null   int64         \n",
            " 9   Total Sales       9648 non-null   float64       \n",
            " 10  Operating Profit  9648 non-null   float64       \n",
            " 11  Operating Margin  9648 non-null   float64       \n",
            " 12  Sales Method      9648 non-null   object        \n",
            "dtypes: datetime64[ns](1), float64(4), int64(2), object(6)\n",
            "memory usage: 980.0+ KB\n"
          ]
        }
      ],
      "source": [
        "df.info()"
      ]
    },
    {
      "cell_type": "markdown",
      "metadata": {},
      "source": [
        "Tipe data yang dimiliki sudah sesuai dengan value atau isi dari kolom"
      ]
    },
    {
      "cell_type": "code",
      "execution_count": 7,
      "metadata": {
        "id": "titXys0i7boU"
      },
      "outputs": [
        {
          "data": {
            "text/plain": [
              "0       False\n",
              "1       False\n",
              "2       False\n",
              "3       False\n",
              "4       False\n",
              "        ...  \n",
              "9643    False\n",
              "9644    False\n",
              "9645    False\n",
              "9646    False\n",
              "9647    False\n",
              "Length: 9648, dtype: bool"
            ]
          },
          "execution_count": 7,
          "metadata": {},
          "output_type": "execute_result"
        }
      ],
      "source": [
        "df.duplicated()"
      ]
    },
    {
      "cell_type": "markdown",
      "metadata": {
        "id": "LVcQB6Bf7j6I"
      },
      "source": []
    },
    {
      "cell_type": "markdown",
      "metadata": {
        "id": "d6dEBoq2hN-H"
      },
      "source": [
        "# 4-Data Cleaning"
      ]
    },
    {
      "cell_type": "markdown",
      "metadata": {},
      "source": [
        "### 4.1.1-Menghilangkan space menjadi - dan lower case"
      ]
    },
    {
      "cell_type": "code",
      "execution_count": 8,
      "metadata": {},
      "outputs": [],
      "source": [
        "df.columns = df.columns.str.strip()\n",
        "df.columns = df.columns.str.lower()\n",
        "df.columns = df.columns.str.replace(' ','-')"
      ]
    },
    {
      "cell_type": "code",
      "execution_count": 9,
      "metadata": {},
      "outputs": [
        {
          "data": {
            "text/plain": [
              "Index(['retailer', 'retailer-id', 'invoice-date', 'region', 'state', 'city',\n",
              "       'product', 'price-per-unit', 'units-sold', 'total-sales',\n",
              "       'operating-profit', 'operating-margin', 'sales-method'],\n",
              "      dtype='object')"
            ]
          },
          "execution_count": 9,
          "metadata": {},
          "output_type": "execute_result"
        }
      ],
      "source": [
        "df.columns"
      ]
    },
    {
      "cell_type": "markdown",
      "metadata": {},
      "source": [
        "Spasi serta - hilang agar pengolahan dataframe tidak begitu rumit"
      ]
    },
    {
      "cell_type": "code",
      "execution_count": 10,
      "metadata": {},
      "outputs": [
        {
          "data": {
            "text/html": [
              "<div>\n",
              "<style scoped>\n",
              "    .dataframe tbody tr th:only-of-type {\n",
              "        vertical-align: middle;\n",
              "    }\n",
              "\n",
              "    .dataframe tbody tr th {\n",
              "        vertical-align: top;\n",
              "    }\n",
              "\n",
              "    .dataframe thead th {\n",
              "        text-align: right;\n",
              "    }\n",
              "</style>\n",
              "<table border=\"1\" class=\"dataframe\">\n",
              "  <thead>\n",
              "    <tr style=\"text-align: right;\">\n",
              "      <th></th>\n",
              "      <th>retailer</th>\n",
              "      <th>retailer-id</th>\n",
              "      <th>invoice-date</th>\n",
              "      <th>region</th>\n",
              "      <th>state</th>\n",
              "      <th>city</th>\n",
              "      <th>product</th>\n",
              "      <th>price-per-unit</th>\n",
              "      <th>units-sold</th>\n",
              "      <th>total-sales</th>\n",
              "      <th>operating-profit</th>\n",
              "      <th>operating-margin</th>\n",
              "      <th>sales-method</th>\n",
              "    </tr>\n",
              "  </thead>\n",
              "  <tbody>\n",
              "    <tr>\n",
              "      <th>0</th>\n",
              "      <td>Foot Locker</td>\n",
              "      <td>1185732</td>\n",
              "      <td>2020-01-01</td>\n",
              "      <td>Northeast</td>\n",
              "      <td>New York</td>\n",
              "      <td>New York</td>\n",
              "      <td>Men's Street Footwear</td>\n",
              "      <td>50.0</td>\n",
              "      <td>1200</td>\n",
              "      <td>600000.0</td>\n",
              "      <td>300000.00</td>\n",
              "      <td>0.50</td>\n",
              "      <td>In-store</td>\n",
              "    </tr>\n",
              "    <tr>\n",
              "      <th>1</th>\n",
              "      <td>Foot Locker</td>\n",
              "      <td>1185732</td>\n",
              "      <td>2020-01-02</td>\n",
              "      <td>Northeast</td>\n",
              "      <td>New York</td>\n",
              "      <td>New York</td>\n",
              "      <td>Men's Athletic Footwear</td>\n",
              "      <td>50.0</td>\n",
              "      <td>1000</td>\n",
              "      <td>500000.0</td>\n",
              "      <td>150000.00</td>\n",
              "      <td>0.30</td>\n",
              "      <td>In-store</td>\n",
              "    </tr>\n",
              "    <tr>\n",
              "      <th>2</th>\n",
              "      <td>Foot Locker</td>\n",
              "      <td>1185732</td>\n",
              "      <td>2020-01-03</td>\n",
              "      <td>Northeast</td>\n",
              "      <td>New York</td>\n",
              "      <td>New York</td>\n",
              "      <td>Women's Street Footwear</td>\n",
              "      <td>40.0</td>\n",
              "      <td>1000</td>\n",
              "      <td>400000.0</td>\n",
              "      <td>140000.00</td>\n",
              "      <td>0.35</td>\n",
              "      <td>In-store</td>\n",
              "    </tr>\n",
              "    <tr>\n",
              "      <th>3</th>\n",
              "      <td>Foot Locker</td>\n",
              "      <td>1185732</td>\n",
              "      <td>2020-01-04</td>\n",
              "      <td>Northeast</td>\n",
              "      <td>New York</td>\n",
              "      <td>New York</td>\n",
              "      <td>Women's Athletic Footwear</td>\n",
              "      <td>45.0</td>\n",
              "      <td>850</td>\n",
              "      <td>382500.0</td>\n",
              "      <td>133875.00</td>\n",
              "      <td>0.35</td>\n",
              "      <td>In-store</td>\n",
              "    </tr>\n",
              "    <tr>\n",
              "      <th>4</th>\n",
              "      <td>Foot Locker</td>\n",
              "      <td>1185732</td>\n",
              "      <td>2020-01-05</td>\n",
              "      <td>Northeast</td>\n",
              "      <td>New York</td>\n",
              "      <td>New York</td>\n",
              "      <td>Men's Apparel</td>\n",
              "      <td>60.0</td>\n",
              "      <td>900</td>\n",
              "      <td>540000.0</td>\n",
              "      <td>162000.00</td>\n",
              "      <td>0.30</td>\n",
              "      <td>In-store</td>\n",
              "    </tr>\n",
              "    <tr>\n",
              "      <th>...</th>\n",
              "      <td>...</td>\n",
              "      <td>...</td>\n",
              "      <td>...</td>\n",
              "      <td>...</td>\n",
              "      <td>...</td>\n",
              "      <td>...</td>\n",
              "      <td>...</td>\n",
              "      <td>...</td>\n",
              "      <td>...</td>\n",
              "      <td>...</td>\n",
              "      <td>...</td>\n",
              "      <td>...</td>\n",
              "      <td>...</td>\n",
              "    </tr>\n",
              "    <tr>\n",
              "      <th>9643</th>\n",
              "      <td>Foot Locker</td>\n",
              "      <td>1185732</td>\n",
              "      <td>2021-01-24</td>\n",
              "      <td>Northeast</td>\n",
              "      <td>New Hampshire</td>\n",
              "      <td>Manchester</td>\n",
              "      <td>Men's Apparel</td>\n",
              "      <td>50.0</td>\n",
              "      <td>64</td>\n",
              "      <td>3200.0</td>\n",
              "      <td>896.00</td>\n",
              "      <td>0.28</td>\n",
              "      <td>Outlet</td>\n",
              "    </tr>\n",
              "    <tr>\n",
              "      <th>9644</th>\n",
              "      <td>Foot Locker</td>\n",
              "      <td>1185732</td>\n",
              "      <td>2021-01-24</td>\n",
              "      <td>Northeast</td>\n",
              "      <td>New Hampshire</td>\n",
              "      <td>Manchester</td>\n",
              "      <td>Women's Apparel</td>\n",
              "      <td>41.0</td>\n",
              "      <td>105</td>\n",
              "      <td>4305.0</td>\n",
              "      <td>1377.60</td>\n",
              "      <td>0.32</td>\n",
              "      <td>Outlet</td>\n",
              "    </tr>\n",
              "    <tr>\n",
              "      <th>9645</th>\n",
              "      <td>Foot Locker</td>\n",
              "      <td>1185732</td>\n",
              "      <td>2021-02-22</td>\n",
              "      <td>Northeast</td>\n",
              "      <td>New Hampshire</td>\n",
              "      <td>Manchester</td>\n",
              "      <td>Men's Street Footwear</td>\n",
              "      <td>41.0</td>\n",
              "      <td>184</td>\n",
              "      <td>7544.0</td>\n",
              "      <td>2791.28</td>\n",
              "      <td>0.37</td>\n",
              "      <td>Outlet</td>\n",
              "    </tr>\n",
              "    <tr>\n",
              "      <th>9646</th>\n",
              "      <td>Foot Locker</td>\n",
              "      <td>1185732</td>\n",
              "      <td>2021-02-22</td>\n",
              "      <td>Northeast</td>\n",
              "      <td>New Hampshire</td>\n",
              "      <td>Manchester</td>\n",
              "      <td>Men's Athletic Footwear</td>\n",
              "      <td>42.0</td>\n",
              "      <td>70</td>\n",
              "      <td>2940.0</td>\n",
              "      <td>1234.80</td>\n",
              "      <td>0.42</td>\n",
              "      <td>Outlet</td>\n",
              "    </tr>\n",
              "    <tr>\n",
              "      <th>9647</th>\n",
              "      <td>Foot Locker</td>\n",
              "      <td>1185732</td>\n",
              "      <td>2021-02-22</td>\n",
              "      <td>Northeast</td>\n",
              "      <td>New Hampshire</td>\n",
              "      <td>Manchester</td>\n",
              "      <td>Women's Street Footwear</td>\n",
              "      <td>29.0</td>\n",
              "      <td>83</td>\n",
              "      <td>2407.0</td>\n",
              "      <td>649.89</td>\n",
              "      <td>0.27</td>\n",
              "      <td>Outlet</td>\n",
              "    </tr>\n",
              "  </tbody>\n",
              "</table>\n",
              "<p>9648 rows × 13 columns</p>\n",
              "</div>"
            ],
            "text/plain": [
              "         retailer  retailer-id invoice-date     region          state  \\\n",
              "0     Foot Locker      1185732   2020-01-01  Northeast       New York   \n",
              "1     Foot Locker      1185732   2020-01-02  Northeast       New York   \n",
              "2     Foot Locker      1185732   2020-01-03  Northeast       New York   \n",
              "3     Foot Locker      1185732   2020-01-04  Northeast       New York   \n",
              "4     Foot Locker      1185732   2020-01-05  Northeast       New York   \n",
              "...           ...          ...          ...        ...            ...   \n",
              "9643  Foot Locker      1185732   2021-01-24  Northeast  New Hampshire   \n",
              "9644  Foot Locker      1185732   2021-01-24  Northeast  New Hampshire   \n",
              "9645  Foot Locker      1185732   2021-02-22  Northeast  New Hampshire   \n",
              "9646  Foot Locker      1185732   2021-02-22  Northeast  New Hampshire   \n",
              "9647  Foot Locker      1185732   2021-02-22  Northeast  New Hampshire   \n",
              "\n",
              "            city                    product  price-per-unit  units-sold  \\\n",
              "0       New York      Men's Street Footwear            50.0        1200   \n",
              "1       New York    Men's Athletic Footwear            50.0        1000   \n",
              "2       New York    Women's Street Footwear            40.0        1000   \n",
              "3       New York  Women's Athletic Footwear            45.0         850   \n",
              "4       New York              Men's Apparel            60.0         900   \n",
              "...          ...                        ...             ...         ...   \n",
              "9643  Manchester              Men's Apparel            50.0          64   \n",
              "9644  Manchester            Women's Apparel            41.0         105   \n",
              "9645  Manchester      Men's Street Footwear            41.0         184   \n",
              "9646  Manchester    Men's Athletic Footwear            42.0          70   \n",
              "9647  Manchester    Women's Street Footwear            29.0          83   \n",
              "\n",
              "      total-sales  operating-profit  operating-margin sales-method  \n",
              "0        600000.0         300000.00              0.50     In-store  \n",
              "1        500000.0         150000.00              0.30     In-store  \n",
              "2        400000.0         140000.00              0.35     In-store  \n",
              "3        382500.0         133875.00              0.35     In-store  \n",
              "4        540000.0         162000.00              0.30     In-store  \n",
              "...           ...               ...               ...          ...  \n",
              "9643       3200.0            896.00              0.28       Outlet  \n",
              "9644       4305.0           1377.60              0.32       Outlet  \n",
              "9645       7544.0           2791.28              0.37       Outlet  \n",
              "9646       2940.0           1234.80              0.42       Outlet  \n",
              "9647       2407.0            649.89              0.27       Outlet  \n",
              "\n",
              "[9648 rows x 13 columns]"
            ]
          },
          "execution_count": 10,
          "metadata": {},
          "output_type": "execute_result"
        }
      ],
      "source": [
        "df"
      ]
    },
    {
      "cell_type": "markdown",
      "metadata": {
        "id": "OYUID6p9qiDq"
      },
      "source": [
        "### 4.1.2-Menghilangkan missing value"
      ]
    },
    {
      "cell_type": "code",
      "execution_count": 11,
      "metadata": {
        "id": "uhzdc8SwhYgm"
      },
      "outputs": [
        {
          "data": {
            "text/plain": [
              "retailer            0\n",
              "retailer-id         0\n",
              "invoice-date        0\n",
              "region              0\n",
              "state               0\n",
              "city                0\n",
              "product             0\n",
              "price-per-unit      0\n",
              "units-sold          0\n",
              "total-sales         0\n",
              "operating-profit    0\n",
              "operating-margin    0\n",
              "sales-method        0\n",
              "dtype: int64"
            ]
          },
          "execution_count": 11,
          "metadata": {},
          "output_type": "execute_result"
        }
      ],
      "source": [
        "df.isnull().sum() "
      ]
    },
    {
      "cell_type": "markdown",
      "metadata": {},
      "source": [
        "Dataset penjualan Adidas tidak memuat data kosong atau data yang tidak teriisi"
      ]
    },
    {
      "cell_type": "markdown",
      "metadata": {
        "id": "mexJ8tSohY8J"
      },
      "source": [
        "## 4.2-Inconsistent Type"
      ]
    },
    {
      "cell_type": "code",
      "execution_count": 12,
      "metadata": {},
      "outputs": [
        {
          "name": "stdout",
          "output_type": "stream",
          "text": [
            "<class 'pandas.core.frame.DataFrame'>\n",
            "RangeIndex: 9648 entries, 0 to 9647\n",
            "Data columns (total 13 columns):\n",
            " #   Column            Non-Null Count  Dtype         \n",
            "---  ------            --------------  -----         \n",
            " 0   retailer          9648 non-null   object        \n",
            " 1   retailer-id       9648 non-null   int64         \n",
            " 2   invoice-date      9648 non-null   datetime64[ns]\n",
            " 3   region            9648 non-null   object        \n",
            " 4   state             9648 non-null   object        \n",
            " 5   city              9648 non-null   object        \n",
            " 6   product           9648 non-null   object        \n",
            " 7   price-per-unit    9648 non-null   float64       \n",
            " 8   units-sold        9648 non-null   int64         \n",
            " 9   total-sales       9648 non-null   float64       \n",
            " 10  operating-profit  9648 non-null   float64       \n",
            " 11  operating-margin  9648 non-null   float64       \n",
            " 12  sales-method      9648 non-null   object        \n",
            "dtypes: datetime64[ns](1), float64(4), int64(2), object(6)\n",
            "memory usage: 980.0+ KB\n"
          ]
        }
      ],
      "source": [
        "df.info()"
      ]
    },
    {
      "cell_type": "markdown",
      "metadata": {},
      "source": [
        "Tipe data tiap kolom dataset Adidas sudah sesuai dengan isi dari kolom tersebut."
      ]
    },
    {
      "cell_type": "markdown",
      "metadata": {
        "id": "nwOG04v9rv1N"
      },
      "source": [
        "## 4.3- Save Data"
      ]
    },
    {
      "cell_type": "code",
      "execution_count": 53,
      "metadata": {
        "id": "xDA3bLx7rz2n"
      },
      "outputs": [],
      "source": [
        "df.to_csv('adidas_cleaning.csv')"
      ]
    },
    {
      "cell_type": "markdown",
      "metadata": {
        "id": "3onm7SUrhij_"
      },
      "source": [
        "# 5-EDA"
      ]
    },
    {
      "cell_type": "markdown",
      "metadata": {},
      "source": [
        "## 5.1- Retailer yang memiliki nilai rata - rata profit paling tinggi dan rendah  "
      ]
    },
    {
      "cell_type": "code",
      "execution_count": 13,
      "metadata": {},
      "outputs": [
        {
          "data": {
            "text/html": [
              "<div>\n",
              "<style scoped>\n",
              "    .dataframe tbody tr th:only-of-type {\n",
              "        vertical-align: middle;\n",
              "    }\n",
              "\n",
              "    .dataframe tbody tr th {\n",
              "        vertical-align: top;\n",
              "    }\n",
              "\n",
              "    .dataframe thead th {\n",
              "        text-align: right;\n",
              "    }\n",
              "</style>\n",
              "<table border=\"1\" class=\"dataframe\">\n",
              "  <thead>\n",
              "    <tr style=\"text-align: right;\">\n",
              "      <th></th>\n",
              "      <th>operating-profit</th>\n",
              "    </tr>\n",
              "    <tr>\n",
              "      <th>retailer</th>\n",
              "      <th></th>\n",
              "    </tr>\n",
              "  </thead>\n",
              "  <tbody>\n",
              "    <tr>\n",
              "      <th>Amazon</th>\n",
              "      <td>30367.232150</td>\n",
              "    </tr>\n",
              "    <tr>\n",
              "      <th>Foot Locker</th>\n",
              "      <td>30611.348051</td>\n",
              "    </tr>\n",
              "    <tr>\n",
              "      <th>Kohl's</th>\n",
              "      <td>35739.080175</td>\n",
              "    </tr>\n",
              "    <tr>\n",
              "      <th>West Gear</th>\n",
              "      <td>36085.877498</td>\n",
              "    </tr>\n",
              "    <tr>\n",
              "      <th>Sports Direct</th>\n",
              "      <td>36581.178622</td>\n",
              "    </tr>\n",
              "    <tr>\n",
              "      <th>Walmart</th>\n",
              "      <td>41185.387556</td>\n",
              "    </tr>\n",
              "  </tbody>\n",
              "</table>\n",
              "</div>"
            ],
            "text/plain": [
              "               operating-profit\n",
              "retailer                       \n",
              "Amazon             30367.232150\n",
              "Foot Locker        30611.348051\n",
              "Kohl's             35739.080175\n",
              "West Gear          36085.877498\n",
              "Sports Direct      36581.178622\n",
              "Walmart            41185.387556"
            ]
          },
          "execution_count": 13,
          "metadata": {},
          "output_type": "execute_result"
        }
      ],
      "source": [
        "profittoko =  df.groupby('retailer')[['operating-profit']].mean()\n",
        "profittoko = profittoko.sort_values('operating-profit' , ascending = True)\n",
        "profittoko"
      ]
    },
    {
      "cell_type": "markdown",
      "metadata": {},
      "source": [
        "Terdapat 5 toko dalam dataset Adidas dengan rata - rata yang telah ditampilkan diatas"
      ]
    },
    {
      "cell_type": "code",
      "execution_count": 14,
      "metadata": {},
      "outputs": [
        {
          "data": {
            "image/png": "[encoded data removed]",
            "text/plain": [
              "<Figure size 800x400 with 1 Axes>"
            ]
          },
          "metadata": {},
          "output_type": "display_data"
        }
      ],
      "source": [
        "plt.figure(figsize=(8,4))\n",
        "ax = sns.barplot (x = 'retailer', y= 'operating-profit', data = profittoko)\n",
        "for i in ax.containers:\n",
        "    ax.bar_label(i,)\n",
        "plt.title(\"Profit by Retailer\")\n",
        "plt.show()"
      ]
    },
    {
      "cell_type": "markdown",
      "metadata": {},
      "source": [
        "Perbandingan nilai profit tiap toko dapat dilihat dalam bar Profit by Retailer. Dengan retailer Walmart paling tinggi serta retailer Amazon paling rendah. Dari data tersebut, penjualan pada toko Amazon  dapat ditingkatkan  "
      ]
    },
    {
      "cell_type": "markdown",
      "metadata": {
        "id": "JZ5tJ7sThm9A"
      },
      "source": [
        "## 5.2- Kota yang  memiliki rata - rata  profit tinggi dan rendah"
      ]
    },
    {
      "cell_type": "code",
      "execution_count": 15,
      "metadata": {
        "id": "Gz5E5xSjhs8e"
      },
      "outputs": [
        {
          "data": {
            "text/html": [
              "<div>\n",
              "<style scoped>\n",
              "    .dataframe tbody tr th:only-of-type {\n",
              "        vertical-align: middle;\n",
              "    }\n",
              "\n",
              "    .dataframe tbody tr th {\n",
              "        vertical-align: top;\n",
              "    }\n",
              "\n",
              "    .dataframe thead th {\n",
              "        text-align: right;\n",
              "    }\n",
              "</style>\n",
              "<table border=\"1\" class=\"dataframe\">\n",
              "  <thead>\n",
              "    <tr style=\"text-align: right;\">\n",
              "      <th></th>\n",
              "      <th>operating-profit</th>\n",
              "    </tr>\n",
              "    <tr>\n",
              "      <th>city</th>\n",
              "      <th></th>\n",
              "    </tr>\n",
              "  </thead>\n",
              "  <tbody>\n",
              "    <tr>\n",
              "      <th>Providence</th>\n",
              "      <td>14101.005833</td>\n",
              "    </tr>\n",
              "    <tr>\n",
              "      <th>Boston</th>\n",
              "      <td>15527.203102</td>\n",
              "    </tr>\n",
              "    <tr>\n",
              "      <th>Omaha</th>\n",
              "      <td>16940.822292</td>\n",
              "    </tr>\n",
              "    <tr>\n",
              "      <th>Salt Lake City</th>\n",
              "      <td>17932.542130</td>\n",
              "    </tr>\n",
              "    <tr>\n",
              "      <th>Des Moines</th>\n",
              "      <td>18439.009514</td>\n",
              "    </tr>\n",
              "    <tr>\n",
              "      <th>Minneapolis</th>\n",
              "      <td>18543.262222</td>\n",
              "    </tr>\n",
              "    <tr>\n",
              "      <th>Fargo</th>\n",
              "      <td>18670.275833</td>\n",
              "    </tr>\n",
              "    <tr>\n",
              "      <th>Oklahoma City</th>\n",
              "      <td>19011.722870</td>\n",
              "    </tr>\n",
              "    <tr>\n",
              "      <th>Baltimore</th>\n",
              "      <td>19150.292500</td>\n",
              "    </tr>\n",
              "    <tr>\n",
              "      <th>Hartford</th>\n",
              "      <td>19223.707361</td>\n",
              "    </tr>\n",
              "    <tr>\n",
              "      <th>Philadelphia</th>\n",
              "      <td>19244.163194</td>\n",
              "    </tr>\n",
              "    <tr>\n",
              "      <th>Milwaukee</th>\n",
              "      <td>19450.208958</td>\n",
              "    </tr>\n",
              "    <tr>\n",
              "      <th>Sioux Falls</th>\n",
              "      <td>20439.709792</td>\n",
              "    </tr>\n",
              "    <tr>\n",
              "      <th>Little Rock</th>\n",
              "      <td>22757.860694</td>\n",
              "    </tr>\n",
              "    <tr>\n",
              "      <th>Indianapolis</th>\n",
              "      <td>23467.055556</td>\n",
              "    </tr>\n",
              "    <tr>\n",
              "      <th>Wichita</th>\n",
              "      <td>24376.022847</td>\n",
              "    </tr>\n",
              "    <tr>\n",
              "      <th>Phoenix</th>\n",
              "      <td>24743.817500</td>\n",
              "    </tr>\n",
              "    <tr>\n",
              "      <th>Newark</th>\n",
              "      <td>25397.480694</td>\n",
              "    </tr>\n",
              "    <tr>\n",
              "      <th>Burlington</th>\n",
              "      <td>26786.881898</td>\n",
              "    </tr>\n",
              "    <tr>\n",
              "      <th>Manchester</th>\n",
              "      <td>26787.992731</td>\n",
              "    </tr>\n",
              "    <tr>\n",
              "      <th>St. Louis</th>\n",
              "      <td>27133.398333</td>\n",
              "    </tr>\n",
              "    <tr>\n",
              "      <th>Chicago</th>\n",
              "      <td>27224.782014</td>\n",
              "    </tr>\n",
              "    <tr>\n",
              "      <th>Louisville</th>\n",
              "      <td>27332.154375</td>\n",
              "    </tr>\n",
              "    <tr>\n",
              "      <th>Jackson</th>\n",
              "      <td>29486.549676</td>\n",
              "    </tr>\n",
              "    <tr>\n",
              "      <th>Portland</th>\n",
              "      <td>29891.109361</td>\n",
              "    </tr>\n",
              "    <tr>\n",
              "      <th>Albuquerque</th>\n",
              "      <td>31194.724120</td>\n",
              "    </tr>\n",
              "    <tr>\n",
              "      <th>Anchorage</th>\n",
              "      <td>31238.512917</td>\n",
              "    </tr>\n",
              "    <tr>\n",
              "      <th>Wilmington</th>\n",
              "      <td>31419.097639</td>\n",
              "    </tr>\n",
              "    <tr>\n",
              "      <th>Atlanta</th>\n",
              "      <td>31913.377824</td>\n",
              "    </tr>\n",
              "    <tr>\n",
              "      <th>Las Vegas</th>\n",
              "      <td>32688.203333</td>\n",
              "    </tr>\n",
              "    <tr>\n",
              "      <th>Richmond</th>\n",
              "      <td>35738.105000</td>\n",
              "    </tr>\n",
              "    <tr>\n",
              "      <th>Boise</th>\n",
              "      <td>37597.755093</td>\n",
              "    </tr>\n",
              "    <tr>\n",
              "      <th>Knoxville</th>\n",
              "      <td>39322.500278</td>\n",
              "    </tr>\n",
              "    <tr>\n",
              "      <th>Orlando</th>\n",
              "      <td>40544.388009</td>\n",
              "    </tr>\n",
              "    <tr>\n",
              "      <th>Honolulu</th>\n",
              "      <td>40623.569931</td>\n",
              "    </tr>\n",
              "    <tr>\n",
              "      <th>Dallas</th>\n",
              "      <td>40940.107824</td>\n",
              "    </tr>\n",
              "    <tr>\n",
              "      <th>Los Angeles</th>\n",
              "      <td>41874.633519</td>\n",
              "    </tr>\n",
              "    <tr>\n",
              "      <th>Birmingham</th>\n",
              "      <td>42349.913843</td>\n",
              "    </tr>\n",
              "    <tr>\n",
              "      <th>Billings</th>\n",
              "      <td>43278.038542</td>\n",
              "    </tr>\n",
              "    <tr>\n",
              "      <th>New Orleans</th>\n",
              "      <td>43598.303194</td>\n",
              "    </tr>\n",
              "    <tr>\n",
              "      <th>Cheyenne</th>\n",
              "      <td>45444.938542</td>\n",
              "    </tr>\n",
              "    <tr>\n",
              "      <th>Houston</th>\n",
              "      <td>45579.356759</td>\n",
              "    </tr>\n",
              "    <tr>\n",
              "      <th>San Francisco</th>\n",
              "      <td>47482.636852</td>\n",
              "    </tr>\n",
              "    <tr>\n",
              "      <th>Seattle</th>\n",
              "      <td>48551.410625</td>\n",
              "    </tr>\n",
              "    <tr>\n",
              "      <th>Columbus</th>\n",
              "      <td>52283.611736</td>\n",
              "    </tr>\n",
              "    <tr>\n",
              "      <th>Denver</th>\n",
              "      <td>53566.359931</td>\n",
              "    </tr>\n",
              "    <tr>\n",
              "      <th>Charleston</th>\n",
              "      <td>54191.632326</td>\n",
              "    </tr>\n",
              "    <tr>\n",
              "      <th>Detroit</th>\n",
              "      <td>56499.264028</td>\n",
              "    </tr>\n",
              "    <tr>\n",
              "      <th>New York</th>\n",
              "      <td>64351.727593</td>\n",
              "    </tr>\n",
              "    <tr>\n",
              "      <th>Albany</th>\n",
              "      <td>65485.075764</td>\n",
              "    </tr>\n",
              "    <tr>\n",
              "      <th>Charlotte</th>\n",
              "      <td>67752.936597</td>\n",
              "    </tr>\n",
              "    <tr>\n",
              "      <th>Miami</th>\n",
              "      <td>84504.299375</td>\n",
              "    </tr>\n",
              "  </tbody>\n",
              "</table>\n",
              "</div>"
            ],
            "text/plain": [
              "                operating-profit\n",
              "city                            \n",
              "Providence          14101.005833\n",
              "Boston              15527.203102\n",
              "Omaha               16940.822292\n",
              "Salt Lake City      17932.542130\n",
              "Des Moines          18439.009514\n",
              "Minneapolis         18543.262222\n",
              "Fargo               18670.275833\n",
              "Oklahoma City       19011.722870\n",
              "Baltimore           19150.292500\n",
              "Hartford            19223.707361\n",
              "Philadelphia        19244.163194\n",
              "Milwaukee           19450.208958\n",
              "Sioux Falls         20439.709792\n",
              "Little Rock         22757.860694\n",
              "Indianapolis        23467.055556\n",
              "Wichita             24376.022847\n",
              "Phoenix             24743.817500\n",
              "Newark              25397.480694\n",
              "Burlington          26786.881898\n",
              "Manchester          26787.992731\n",
              "St. Louis           27133.398333\n",
              "Chicago             27224.782014\n",
              "Louisville          27332.154375\n",
              "Jackson             29486.549676\n",
              "Portland            29891.109361\n",
              "Albuquerque         31194.724120\n",
              "Anchorage           31238.512917\n",
              "Wilmington          31419.097639\n",
              "Atlanta             31913.377824\n",
              "Las Vegas           32688.203333\n",
              "Richmond            35738.105000\n",
              "Boise               37597.755093\n",
              "Knoxville           39322.500278\n",
              "Orlando             40544.388009\n",
              "Honolulu            40623.569931\n",
              "Dallas              40940.107824\n",
              "Los Angeles         41874.633519\n",
              "Birmingham          42349.913843\n",
              "Billings            43278.038542\n",
              "New Orleans         43598.303194\n",
              "Cheyenne            45444.938542\n",
              "Houston             45579.356759\n",
              "San Francisco       47482.636852\n",
              "Seattle             48551.410625\n",
              "Columbus            52283.611736\n",
              "Denver              53566.359931\n",
              "Charleston          54191.632326\n",
              "Detroit             56499.264028\n",
              "New York            64351.727593\n",
              "Albany              65485.075764\n",
              "Charlotte           67752.936597\n",
              "Miami               84504.299375"
            ]
          },
          "execution_count": 15,
          "metadata": {},
          "output_type": "execute_result"
        }
      ],
      "source": [
        "profit =  df.groupby('city')[['operating-profit']].mean()\n",
        "profit = profit.sort_values('operating-profit' , ascending = True)\n",
        "profit"
      ]
    },
    {
      "cell_type": "markdown",
      "metadata": {},
      "source": [
        "Terdapat 52 kota yang menjual sepatu Adidas, karena daftar kota terlalu banyak maka golongkan 5 kota dengan profit yang rendah dan tinggi"
      ]
    },
    {
      "cell_type": "code",
      "execution_count": 16,
      "metadata": {},
      "outputs": [
        {
          "data": {
            "image/png": "[encoded data removed]",
            "text/plain": [
              "<Figure size 800x1700 with 1 Axes>"
            ]
          },
          "metadata": {},
          "output_type": "display_data"
        }
      ],
      "source": [
        "plt.figure(figsize=(8,17))\n",
        "sns.barplot (x = 'operating-profit', y= 'city', data = profit)\n",
        "plt.show()"
      ]
    },
    {
      "cell_type": "markdown",
      "metadata": {
        "id": "WC2RC0WundwS"
      },
      "source": [
        "Perbandingan antara 52 kota dengan profitnya. "
      ]
    },
    {
      "cell_type": "markdown",
      "metadata": {},
      "source": [
        "### 5.2.1 - 5 Kota yang memiliki rata - rata  profit rendah"
      ]
    },
    {
      "cell_type": "code",
      "execution_count": 17,
      "metadata": {},
      "outputs": [
        {
          "data": {
            "text/html": [
              "<div>\n",
              "<style scoped>\n",
              "    .dataframe tbody tr th:only-of-type {\n",
              "        vertical-align: middle;\n",
              "    }\n",
              "\n",
              "    .dataframe tbody tr th {\n",
              "        vertical-align: top;\n",
              "    }\n",
              "\n",
              "    .dataframe thead th {\n",
              "        text-align: right;\n",
              "    }\n",
              "</style>\n",
              "<table border=\"1\" class=\"dataframe\">\n",
              "  <thead>\n",
              "    <tr style=\"text-align: right;\">\n",
              "      <th></th>\n",
              "      <th>operating-profit</th>\n",
              "    </tr>\n",
              "    <tr>\n",
              "      <th>city</th>\n",
              "      <th></th>\n",
              "    </tr>\n",
              "  </thead>\n",
              "  <tbody>\n",
              "    <tr>\n",
              "      <th>Providence</th>\n",
              "      <td>14101.005833</td>\n",
              "    </tr>\n",
              "    <tr>\n",
              "      <th>Boston</th>\n",
              "      <td>15527.203102</td>\n",
              "    </tr>\n",
              "    <tr>\n",
              "      <th>Omaha</th>\n",
              "      <td>16940.822292</td>\n",
              "    </tr>\n",
              "    <tr>\n",
              "      <th>Salt Lake City</th>\n",
              "      <td>17932.542130</td>\n",
              "    </tr>\n",
              "    <tr>\n",
              "      <th>Des Moines</th>\n",
              "      <td>18439.009514</td>\n",
              "    </tr>\n",
              "  </tbody>\n",
              "</table>\n",
              "</div>"
            ],
            "text/plain": [
              "                operating-profit\n",
              "city                            \n",
              "Providence          14101.005833\n",
              "Boston              15527.203102\n",
              "Omaha               16940.822292\n",
              "Salt Lake City      17932.542130\n",
              "Des Moines          18439.009514"
            ]
          },
          "execution_count": 17,
          "metadata": {},
          "output_type": "execute_result"
        }
      ],
      "source": [
        "profit =  df.groupby('city')[['operating-profit']].mean()\n",
        "profit = profit.sort_values('operating-profit' , ascending = True).iloc[0:5]\n",
        "profit"
      ]
    },
    {
      "cell_type": "code",
      "execution_count": 18,
      "metadata": {},
      "outputs": [
        {
          "data": {
            "image/png": "[encoded data removed]",
            "text/plain": [
              "<Figure size 640x480 with 1 Axes>"
            ]
          },
          "metadata": {},
          "output_type": "display_data"
        }
      ],
      "source": [
        "ax = sns.barplot (x = 'city', y= 'operating-profit', data = profit)\n",
        "for i in ax.containers:\n",
        "    ax.bar_label(i,)\n",
        "plt.show()"
      ]
    },
    {
      "cell_type": "markdown",
      "metadata": {},
      "source": [
        "Dari 52 kota, kita ambil 5 kota dengan rata - rata profit paling rendah. Kota Providence mendapatkan rata - rata kota dengan operation profit paling rendah, hal ini dapat mengetahui bahwa kota Providence perlu ditingkatkan "
      ]
    },
    {
      "cell_type": "markdown",
      "metadata": {},
      "source": [
        "### 5.2.2 - 5 Kota yang memiliki rata - rata profit tinggi"
      ]
    },
    {
      "cell_type": "code",
      "execution_count": 19,
      "metadata": {},
      "outputs": [
        {
          "data": {
            "text/html": [
              "<div>\n",
              "<style scoped>\n",
              "    .dataframe tbody tr th:only-of-type {\n",
              "        vertical-align: middle;\n",
              "    }\n",
              "\n",
              "    .dataframe tbody tr th {\n",
              "        vertical-align: top;\n",
              "    }\n",
              "\n",
              "    .dataframe thead th {\n",
              "        text-align: right;\n",
              "    }\n",
              "</style>\n",
              "<table border=\"1\" class=\"dataframe\">\n",
              "  <thead>\n",
              "    <tr style=\"text-align: right;\">\n",
              "      <th></th>\n",
              "      <th>operating-profit</th>\n",
              "    </tr>\n",
              "    <tr>\n",
              "      <th>city</th>\n",
              "      <th></th>\n",
              "    </tr>\n",
              "  </thead>\n",
              "  <tbody>\n",
              "    <tr>\n",
              "      <th>Miami</th>\n",
              "      <td>84504.299375</td>\n",
              "    </tr>\n",
              "    <tr>\n",
              "      <th>Charlotte</th>\n",
              "      <td>67752.936597</td>\n",
              "    </tr>\n",
              "    <tr>\n",
              "      <th>Albany</th>\n",
              "      <td>65485.075764</td>\n",
              "    </tr>\n",
              "    <tr>\n",
              "      <th>New York</th>\n",
              "      <td>64351.727593</td>\n",
              "    </tr>\n",
              "    <tr>\n",
              "      <th>Detroit</th>\n",
              "      <td>56499.264028</td>\n",
              "    </tr>\n",
              "  </tbody>\n",
              "</table>\n",
              "</div>"
            ],
            "text/plain": [
              "           operating-profit\n",
              "city                       \n",
              "Miami          84504.299375\n",
              "Charlotte      67752.936597\n",
              "Albany         65485.075764\n",
              "New York       64351.727593\n",
              "Detroit        56499.264028"
            ]
          },
          "execution_count": 19,
          "metadata": {},
          "output_type": "execute_result"
        }
      ],
      "source": [
        "profit =  df.groupby('city')[['operating-profit']].mean()\n",
        "profit = profit.sort_values('operating-profit' , ascending = False).iloc[0:5]\n",
        "profit"
      ]
    },
    {
      "cell_type": "code",
      "execution_count": 20,
      "metadata": {},
      "outputs": [
        {
          "data": {
            "image/png": "[encoded data removed]",
            "text/plain": [
              "<Figure size 640x480 with 1 Axes>"
            ]
          },
          "metadata": {},
          "output_type": "display_data"
        }
      ],
      "source": [
        "ax = sns.barplot (x = 'city', y= 'operating-profit', data = profit)\n",
        "for i in ax.containers:\n",
        "    ax.bar_label(i,)\n",
        "plt.show()"
      ]
    },
    {
      "cell_type": "markdown",
      "metadata": {},
      "source": [
        "Dari 52 kota, kita ambil 5 kota dengan rata - rata profit paling tinggi. Hal ini dapat mengetahui bahwa kota Miami mendapatkan rata - rata profit yang tinggi. Penjualan produk di Kota Miami perlu dipertahankan atau dapat mengetahui informasi lagi mengenai faktor yang membuat tingkat profit yang tinggi"
      ]
    },
    {
      "cell_type": "markdown",
      "metadata": {},
      "source": [
        "## 5.3-Rata - rata profit dari penjualan tiap bulan pada tahun 2020 dan 2021"
      ]
    },
    {
      "cell_type": "code",
      "execution_count": 47,
      "metadata": {},
      "outputs": [],
      "source": [
        "profitbulan = df.groupby([df['invoice-date' ].dt.year,df['invoice-date'].dt.month])['operating-profit'].mean()"
      ]
    },
    {
      "cell_type": "code",
      "execution_count": 51,
      "metadata": {},
      "outputs": [
        {
          "data": {
            "image/png": "[encoded data removed]",
            "text/plain": [
              "<Figure size 2000x600 with 1 Axes>"
            ]
          },
          "metadata": {},
          "output_type": "display_data"
        }
      ],
      "source": [
        "plt.figure(figsize=(20, 6))\n",
        "profitbulan.plot(kind='line', color='orange')\n",
        "plt.title('Total Profit per bulan')\n",
        "plt.xlabel('invoice-date')\n",
        "plt.ylabel('operating-profit')\n",
        "plt.show()"
      ]
    },
    {
      "cell_type": "markdown",
      "metadata": {},
      "source": [
        "Menggambarkan rata rata tiap bulannya pada tahun 2020 dan 2021. Bulan januari pada tahun 2020 dan 2021 masih dibawah 4000, pada penjualan bulan januari dapat ditingkatkan nilai salesnya, agar profit pada bulan januari Tahun 2022 meningkat"
      ]
    },
    {
      "cell_type": "markdown",
      "metadata": {},
      "source": [
        "## 5.4- Produk dari Adidas yang memiliki rata - rata profit tinggi"
      ]
    },
    {
      "cell_type": "code",
      "execution_count": 22,
      "metadata": {},
      "outputs": [
        {
          "data": {
            "text/html": [
              "<div>\n",
              "<style scoped>\n",
              "    .dataframe tbody tr th:only-of-type {\n",
              "        vertical-align: middle;\n",
              "    }\n",
              "\n",
              "    .dataframe tbody tr th {\n",
              "        vertical-align: top;\n",
              "    }\n",
              "\n",
              "    .dataframe thead th {\n",
              "        text-align: right;\n",
              "    }\n",
              "</style>\n",
              "<table border=\"1\" class=\"dataframe\">\n",
              "  <thead>\n",
              "    <tr style=\"text-align: right;\">\n",
              "      <th></th>\n",
              "      <th>operating-profit</th>\n",
              "    </tr>\n",
              "    <tr>\n",
              "      <th>product</th>\n",
              "      <th></th>\n",
              "    </tr>\n",
              "  </thead>\n",
              "  <tbody>\n",
              "    <tr>\n",
              "      <th>Women's Athletic Footwear</th>\n",
              "      <td>24268.857372</td>\n",
              "    </tr>\n",
              "    <tr>\n",
              "      <th>Men's Apparel</th>\n",
              "      <td>27872.372559</td>\n",
              "    </tr>\n",
              "    <tr>\n",
              "      <th>Women's Street Footwear</th>\n",
              "      <td>28044.668414</td>\n",
              "    </tr>\n",
              "    <tr>\n",
              "      <th>Men's Athletic Footwear</th>\n",
              "      <td>32203.036143</td>\n",
              "    </tr>\n",
              "    <tr>\n",
              "      <th>Women's Apparel</th>\n",
              "      <td>42693.389652</td>\n",
              "    </tr>\n",
              "    <tr>\n",
              "      <th>Men's Street Footwear</th>\n",
              "      <td>51429.975540</td>\n",
              "    </tr>\n",
              "  </tbody>\n",
              "</table>\n",
              "</div>"
            ],
            "text/plain": [
              "                           operating-profit\n",
              "product                                    \n",
              "Women's Athletic Footwear      24268.857372\n",
              "Men's Apparel                  27872.372559\n",
              "Women's Street Footwear        28044.668414\n",
              "Men's Athletic Footwear        32203.036143\n",
              "Women's Apparel                42693.389652\n",
              "Men's Street Footwear          51429.975540"
            ]
          },
          "execution_count": 22,
          "metadata": {},
          "output_type": "execute_result"
        }
      ],
      "source": [
        "profitproduct =  df.groupby('product')[['operating-profit']].mean()\n",
        "profitproduct = profitproduct.sort_values('operating-profit' , ascending = True)\n",
        "profitproduct"
      ]
    },
    {
      "cell_type": "markdown",
      "metadata": {},
      "source": [
        "Produk yang memiliki rata rata profit tinggi yaitu Men's Street Footwear dengan nilai 51429. "
      ]
    },
    {
      "cell_type": "code",
      "execution_count": 23,
      "metadata": {},
      "outputs": [
        {
          "data": {
            "image/png": "[encoded data removed]",
            "text/plain": [
              "<Figure size 1200x400 with 1 Axes>"
            ]
          },
          "metadata": {},
          "output_type": "display_data"
        }
      ],
      "source": [
        "plt.figure(figsize=(12,4))\n",
        "ax = sns.barplot (x = 'operating-profit', y= 'product', data = profitproduct, width=0.5)\n",
        "for i in ax.containers:\n",
        "    ax.bar_label(i,)\n",
        "plt.show()"
      ]
    },
    {
      "cell_type": "markdown",
      "metadata": {},
      "source": [
        "Perbandingan  rata - rata tiap product, product Women's Athletic Footwear, Men's Apparel dan Men's Athletic Footwear memiliki tingkat rata rata yang rendah dan hampir sama. Produk terebut perlu lebih dipertimbangkan agar mendapatkan profit yang tinggi"
      ]
    },
    {
      "cell_type": "markdown",
      "metadata": {},
      "source": [
        "## 5.5- Confidence Interval dari profit bulan selanjutnya"
      ]
    },
    {
      "cell_type": "code",
      "execution_count": 25,
      "metadata": {},
      "outputs": [
        {
          "name": "stdout",
          "output_type": "stream",
          "text": [
            "Rata - rata operating profit : 34425.244760572146\n",
            "Median operating profit : 4371.42\n",
            "Standard deviasi operating profit : 54193.11371323229\n"
          ]
        }
      ],
      "source": [
        "print('Rata - rata operating profit :', df['operating-profit'].mean())\n",
        "print('Median operating profit :', df['operating-profit'].median())\n",
        "print('Standard deviasi operating profit :', df['operating-profit'].std())"
      ]
    },
    {
      "cell_type": "code",
      "execution_count": 26,
      "metadata": {},
      "outputs": [
        {
          "name": "stdout",
          "output_type": "stream",
          "text": [
            "Nilai Skewness operating profit: 2.2335982483835206\n"
          ]
        }
      ],
      "source": [
        "print('Nilai Skewness operating profit:', df['operating-profit'].skew())"
      ]
    },
    {
      "cell_type": "markdown",
      "metadata": {},
      "source": [
        "Data berdistribusi lebih ke kanan, data  terdistribusi tidak normal atau skewness "
      ]
    },
    {
      "cell_type": "code",
      "execution_count": 30,
      "metadata": {},
      "outputs": [
        {
          "name": "stdout",
          "output_type": "stream",
          "text": [
            "Lower operating profit Limit: 33343.87667491662\n",
            "Upper operating profit Limit: 35506.612846227676\n"
          ]
        }
      ],
      "source": [
        "std = df['operating-profit'].std()\n",
        "N = len(df)\n",
        "low, up = stats.norm.interval(0.95,loc=df['operating-profit'].mean(),scale=std/np.sqrt(N))\n",
        "print('Lower operating profit Limit:',low)\n",
        "print('Upper operating profit Limit:',up)"
      ]
    },
    {
      "cell_type": "markdown",
      "metadata": {},
      "source": [
        "Dari data profit bulan bulan sebelumnya didapatkan nilai operating profit bawah yaitu 33343 dan nilai operating profit atas yaitu 35506. Lalu untuk pendapatan profit bulan Januari 2022 akan berada diantara 33343 sampai 35506"
      ]
    },
    {
      "cell_type": "markdown",
      "metadata": {},
      "source": [
        "## 5.6- Central Tendency produk yang paling profit"
      ]
    },
    {
      "cell_type": "code",
      "execution_count": 36,
      "metadata": {},
      "outputs": [
        {
          "data": {
            "text/html": [
              "<div>\n",
              "<style scoped>\n",
              "    .dataframe tbody tr th:only-of-type {\n",
              "        vertical-align: middle;\n",
              "    }\n",
              "\n",
              "    .dataframe tbody tr th {\n",
              "        vertical-align: top;\n",
              "    }\n",
              "\n",
              "    .dataframe thead th {\n",
              "        text-align: right;\n",
              "    }\n",
              "</style>\n",
              "<table border=\"1\" class=\"dataframe\">\n",
              "  <thead>\n",
              "    <tr style=\"text-align: right;\">\n",
              "      <th></th>\n",
              "      <th>retailer</th>\n",
              "      <th>retailer-id</th>\n",
              "      <th>invoice-date</th>\n",
              "      <th>region</th>\n",
              "      <th>state</th>\n",
              "      <th>city</th>\n",
              "      <th>product</th>\n",
              "      <th>price-per-unit</th>\n",
              "      <th>units-sold</th>\n",
              "      <th>total-sales</th>\n",
              "      <th>operating-profit</th>\n",
              "      <th>operating-margin</th>\n",
              "      <th>sales-method</th>\n",
              "    </tr>\n",
              "  </thead>\n",
              "  <tbody>\n",
              "    <tr>\n",
              "      <th>0</th>\n",
              "      <td>Foot Locker</td>\n",
              "      <td>1185732</td>\n",
              "      <td>2020-01-01</td>\n",
              "      <td>Northeast</td>\n",
              "      <td>New York</td>\n",
              "      <td>New York</td>\n",
              "      <td>Men's Street Footwear</td>\n",
              "      <td>50.0</td>\n",
              "      <td>1200</td>\n",
              "      <td>600000.0</td>\n",
              "      <td>300000.00</td>\n",
              "      <td>0.50</td>\n",
              "      <td>In-store</td>\n",
              "    </tr>\n",
              "    <tr>\n",
              "      <th>6</th>\n",
              "      <td>Foot Locker</td>\n",
              "      <td>1185732</td>\n",
              "      <td>2020-01-07</td>\n",
              "      <td>Northeast</td>\n",
              "      <td>New York</td>\n",
              "      <td>New York</td>\n",
              "      <td>Men's Street Footwear</td>\n",
              "      <td>50.0</td>\n",
              "      <td>1250</td>\n",
              "      <td>625000.0</td>\n",
              "      <td>312500.00</td>\n",
              "      <td>0.50</td>\n",
              "      <td>In-store</td>\n",
              "    </tr>\n",
              "    <tr>\n",
              "      <th>12</th>\n",
              "      <td>Foot Locker</td>\n",
              "      <td>1185732</td>\n",
              "      <td>2020-01-25</td>\n",
              "      <td>Northeast</td>\n",
              "      <td>New York</td>\n",
              "      <td>New York</td>\n",
              "      <td>Men's Street Footwear</td>\n",
              "      <td>50.0</td>\n",
              "      <td>1220</td>\n",
              "      <td>610000.0</td>\n",
              "      <td>305000.00</td>\n",
              "      <td>0.50</td>\n",
              "      <td>Outlet</td>\n",
              "    </tr>\n",
              "    <tr>\n",
              "      <th>18</th>\n",
              "      <td>Foot Locker</td>\n",
              "      <td>1185732</td>\n",
              "      <td>2020-01-31</td>\n",
              "      <td>Northeast</td>\n",
              "      <td>New York</td>\n",
              "      <td>New York</td>\n",
              "      <td>Men's Street Footwear</td>\n",
              "      <td>50.0</td>\n",
              "      <td>1200</td>\n",
              "      <td>600000.0</td>\n",
              "      <td>300000.00</td>\n",
              "      <td>0.50</td>\n",
              "      <td>Outlet</td>\n",
              "    </tr>\n",
              "    <tr>\n",
              "      <th>24</th>\n",
              "      <td>Foot Locker</td>\n",
              "      <td>1185732</td>\n",
              "      <td>2020-02-06</td>\n",
              "      <td>Northeast</td>\n",
              "      <td>New York</td>\n",
              "      <td>New York</td>\n",
              "      <td>Men's Street Footwear</td>\n",
              "      <td>60.0</td>\n",
              "      <td>1220</td>\n",
              "      <td>732000.0</td>\n",
              "      <td>366000.00</td>\n",
              "      <td>0.50</td>\n",
              "      <td>Outlet</td>\n",
              "    </tr>\n",
              "    <tr>\n",
              "      <th>...</th>\n",
              "      <td>...</td>\n",
              "      <td>...</td>\n",
              "      <td>...</td>\n",
              "      <td>...</td>\n",
              "      <td>...</td>\n",
              "      <td>...</td>\n",
              "      <td>...</td>\n",
              "      <td>...</td>\n",
              "      <td>...</td>\n",
              "      <td>...</td>\n",
              "      <td>...</td>\n",
              "      <td>...</td>\n",
              "      <td>...</td>\n",
              "    </tr>\n",
              "    <tr>\n",
              "      <th>9621</th>\n",
              "      <td>Foot Locker</td>\n",
              "      <td>1185732</td>\n",
              "      <td>2021-10-19</td>\n",
              "      <td>Northeast</td>\n",
              "      <td>New Hampshire</td>\n",
              "      <td>Manchester</td>\n",
              "      <td>Men's Street Footwear</td>\n",
              "      <td>52.0</td>\n",
              "      <td>162</td>\n",
              "      <td>8424.0</td>\n",
              "      <td>3538.08</td>\n",
              "      <td>0.42</td>\n",
              "      <td>Outlet</td>\n",
              "    </tr>\n",
              "    <tr>\n",
              "      <th>9627</th>\n",
              "      <td>Foot Locker</td>\n",
              "      <td>1185732</td>\n",
              "      <td>2021-11-18</td>\n",
              "      <td>Northeast</td>\n",
              "      <td>New Hampshire</td>\n",
              "      <td>Manchester</td>\n",
              "      <td>Men's Street Footwear</td>\n",
              "      <td>59.0</td>\n",
              "      <td>149</td>\n",
              "      <td>8791.0</td>\n",
              "      <td>3780.13</td>\n",
              "      <td>0.43</td>\n",
              "      <td>Outlet</td>\n",
              "    </tr>\n",
              "    <tr>\n",
              "      <th>9633</th>\n",
              "      <td>Foot Locker</td>\n",
              "      <td>1185732</td>\n",
              "      <td>2021-12-17</td>\n",
              "      <td>Northeast</td>\n",
              "      <td>New Hampshire</td>\n",
              "      <td>Manchester</td>\n",
              "      <td>Men's Street Footwear</td>\n",
              "      <td>49.0</td>\n",
              "      <td>200</td>\n",
              "      <td>9800.0</td>\n",
              "      <td>4606.00</td>\n",
              "      <td>0.47</td>\n",
              "      <td>Outlet</td>\n",
              "    </tr>\n",
              "    <tr>\n",
              "      <th>9639</th>\n",
              "      <td>Foot Locker</td>\n",
              "      <td>1185732</td>\n",
              "      <td>2021-01-24</td>\n",
              "      <td>Northeast</td>\n",
              "      <td>New Hampshire</td>\n",
              "      <td>Manchester</td>\n",
              "      <td>Men's Street Footwear</td>\n",
              "      <td>36.0</td>\n",
              "      <td>165</td>\n",
              "      <td>5940.0</td>\n",
              "      <td>2197.80</td>\n",
              "      <td>0.37</td>\n",
              "      <td>Outlet</td>\n",
              "    </tr>\n",
              "    <tr>\n",
              "      <th>9645</th>\n",
              "      <td>Foot Locker</td>\n",
              "      <td>1185732</td>\n",
              "      <td>2021-02-22</td>\n",
              "      <td>Northeast</td>\n",
              "      <td>New Hampshire</td>\n",
              "      <td>Manchester</td>\n",
              "      <td>Men's Street Footwear</td>\n",
              "      <td>41.0</td>\n",
              "      <td>184</td>\n",
              "      <td>7544.0</td>\n",
              "      <td>2791.28</td>\n",
              "      <td>0.37</td>\n",
              "      <td>Outlet</td>\n",
              "    </tr>\n",
              "  </tbody>\n",
              "</table>\n",
              "<p>1610 rows × 13 columns</p>\n",
              "</div>"
            ],
            "text/plain": [
              "         retailer  retailer-id invoice-date     region          state  \\\n",
              "0     Foot Locker      1185732   2020-01-01  Northeast       New York   \n",
              "6     Foot Locker      1185732   2020-01-07  Northeast       New York   \n",
              "12    Foot Locker      1185732   2020-01-25  Northeast       New York   \n",
              "18    Foot Locker      1185732   2020-01-31  Northeast       New York   \n",
              "24    Foot Locker      1185732   2020-02-06  Northeast       New York   \n",
              "...           ...          ...          ...        ...            ...   \n",
              "9621  Foot Locker      1185732   2021-10-19  Northeast  New Hampshire   \n",
              "9627  Foot Locker      1185732   2021-11-18  Northeast  New Hampshire   \n",
              "9633  Foot Locker      1185732   2021-12-17  Northeast  New Hampshire   \n",
              "9639  Foot Locker      1185732   2021-01-24  Northeast  New Hampshire   \n",
              "9645  Foot Locker      1185732   2021-02-22  Northeast  New Hampshire   \n",
              "\n",
              "            city                product  price-per-unit  units-sold  \\\n",
              "0       New York  Men's Street Footwear            50.0        1200   \n",
              "6       New York  Men's Street Footwear            50.0        1250   \n",
              "12      New York  Men's Street Footwear            50.0        1220   \n",
              "18      New York  Men's Street Footwear            50.0        1200   \n",
              "24      New York  Men's Street Footwear            60.0        1220   \n",
              "...          ...                    ...             ...         ...   \n",
              "9621  Manchester  Men's Street Footwear            52.0         162   \n",
              "9627  Manchester  Men's Street Footwear            59.0         149   \n",
              "9633  Manchester  Men's Street Footwear            49.0         200   \n",
              "9639  Manchester  Men's Street Footwear            36.0         165   \n",
              "9645  Manchester  Men's Street Footwear            41.0         184   \n",
              "\n",
              "      total-sales  operating-profit  operating-margin sales-method  \n",
              "0        600000.0         300000.00              0.50     In-store  \n",
              "6        625000.0         312500.00              0.50     In-store  \n",
              "12       610000.0         305000.00              0.50       Outlet  \n",
              "18       600000.0         300000.00              0.50       Outlet  \n",
              "24       732000.0         366000.00              0.50       Outlet  \n",
              "...           ...               ...               ...          ...  \n",
              "9621       8424.0           3538.08              0.42       Outlet  \n",
              "9627       8791.0           3780.13              0.43       Outlet  \n",
              "9633       9800.0           4606.00              0.47       Outlet  \n",
              "9639       5940.0           2197.80              0.37       Outlet  \n",
              "9645       7544.0           2791.28              0.37       Outlet  \n",
              "\n",
              "[1610 rows x 13 columns]"
            ]
          },
          "execution_count": 36,
          "metadata": {},
          "output_type": "execute_result"
        }
      ],
      "source": [
        "dfpro = df.groupby('product')\n",
        "dfpro1 = dfpro.get_group(\"Men's Street Footwear\")\n",
        "dfpro1"
      ]
    },
    {
      "cell_type": "markdown",
      "metadata": {},
      "source": [
        "Mengelompokan product Men's Street Footwear karena memiliki rata - rata profit yang tinggi. "
      ]
    },
    {
      "cell_type": "code",
      "execution_count": 52,
      "metadata": {},
      "outputs": [
        {
          "name": "stdout",
          "output_type": "stream",
          "text": [
            "Nilai rata - rata profit untuk product Men's Street Footwear: 51429.975540372674\n",
            "Nilai tengah  untuk profit untuk product Men's Street Footwear: 5661.15\n",
            "Nilai  profit yang sering didapatkan untuk product Men's Street Footwear: 300000.0\n"
          ]
        }
      ],
      "source": [
        "print(\"Nilai rata - rata profit untuk product Men's Street Footwear:\",dfpro1['operating-profit'].mean() ) \n",
        "print(\"Nilai tengah  untuk profit untuk product Men's Street Footwear:\",dfpro1['operating-profit'].median() ) \n",
        "print(\"Nilai  profit yang sering didapatkan untuk product Men's Street Footwear:\",dfpro1['operating-profit'].values[0] )"
      ]
    },
    {
      "cell_type": "markdown",
      "metadata": {},
      "source": [
        "Product Men's Street Footwear memiliki rata - rata 51429 dari berbagai retailer serta negara yang ada pada dataset. Profit yang sering didapatkan dari product Men's Street Footwear dari tiap retailer serta negara adalah 300000"
      ]
    },
    {
      "cell_type": "markdown",
      "metadata": {
        "id": "qbGgHrTqh0YP"
      },
      "source": [
        "# 6-Conclusion"
      ]
    },
    {
      "cell_type": "markdown",
      "metadata": {
        "id": "sMeWQ88Gh6eB"
      },
      "source": [
        "- Dalam perbandingan tiap retailer penjualan sepatu Adidas, retailer yang ada di Website Amazon terbilang rendah. Dapat mengurangi mengikuti promo yang ada di Amazon untuk meningkatkan profit. \n",
        "- Terdapat 52 negara yang menjual product Adidas. Kota Providence memiliki tingkat profit rendah, hal ini perlu dipertimbangkan untuk mencari Kota lain atau lebih fokus meningkatkan profit pada Kota tersebut.\n",
        "- Dari line chart, dapat disimpulkan bahwa bulan Januari pada tahun 2020 dan 2021 masih dibawah dari bulan bulan lainnya. Maka pada bulan januari tersebut perlu membuat strategi untuk menyesuaikan bulan dengan tingkat profit tinggi\n",
        "- Perbandingan  rata - rata tiap product, product Women's Athletic Footwear, Men's Apparel dan Men's Athletic Footwear memiliki tingkat rata rata yang rendah hampir sama. Produk tersebut perlu lebih dipertimbangkan agar mendapatkan profit yang tinggi"
      ]
    }
  ],
  "metadata": {
    "colab": {
      "provenance": [],
      "toc_visible": true
    },
    "kernelspec": {
      "display_name": "Python 3",
      "name": "python3"
    },
    "language_info": {
      "codemirror_mode": {
        "name": "ipython",
        "version": 3
      },
      "file_extension": ".py",
      "mimetype": "text/x-python",
      "name": "python",
      "nbconvert_exporter": "python",
      "pygments_lexer": "ipython3",
      "version": "3.11.5"
    }
  },
  "nbformat": 4,
  "nbformat_minor": 0
}
